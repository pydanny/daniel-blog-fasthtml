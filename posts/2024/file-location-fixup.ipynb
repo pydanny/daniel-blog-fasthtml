{
 "cells": [
  {
   "cell_type": "markdown",
   "metadata": {},
   "source": [
    "---\n",
    "date: \"2024-10-16T12:00:00.00Z\"\n",
    "description: \"Writing a Jupyter notebook to clean up my blog's article locations\"\n",
    "published: true\n",
    "tags:\n",
    "  - python\n",
    "  - blog\n",
    "time_to_read: 2\n",
    "title: File Location Fixup\n",
    "type: post\n",
    "---"
   ]
  },
  {
   "cell_type": "markdown",
   "metadata": {},
   "source": [
    "For a long time I kept all my blog articles in one directory called \"[posts](https://github.com/pydanny/daniel-blog-fasthtml/tree/main/posts)\". However, as I have over 650 articles, this meant that the directory was unweildy. So I switched to a recursive glob to find all [markdown](https://github.com/pydanny/daniel-blog-fasthtml/blob/feef9f67fbf4ef4571953a163284fa90cd7a7066/main.py#L109) and [Jupyter](https://github.com/pydanny/daniel-blog-fasthtml/blob/feef9f67fbf4ef4571953a163284fa90cd7a7066/main.py#L95) files inside the \"posts\" directory. Now I can have nested folders.\n",
    "\n",
    "Some of my articles are in special directories called things like \"til\" and \"course.fast.ai\". However, the vast majority were destined to be placed in directories that matched the year in which they were written. So anything written in 2010 was moved to the 2010 directory, and anything written this year (2024) was placed in the 2024 directory. As many of my articles were prefixed with their year and month, I could easily do this manually with the `mv` shell command.\n",
    "\n",
    "Alas, about 150 articles didn't have a prefix. I started to open each file to examine their date then moved them one-by-one into their proper date folder. \n",
    "\n",
    "I moved about 10-20 files this way before I remembered I know how to code. Indeed., I could do this in a few lines of Python (or any language - I chose Python here). So I created a Jupyter notebook and in minutes the move was done. You can see the [big commit here](https://github.com/pydanny/daniel-blog-fasthtml/commit/452f30147e339b2e363a7567034744c7b48598ba).\n",
    "\n",
    "This article is [that Jupyter notebook](https://github.com/pydanny/daniel-blog-fasthtml/blob/main/posts/2024/file-location-cleanup.ipynb). I've attached frontmatter and set it in the 2024 folder. Enjoy!"
   ]
  },
  {
   "cell_type": "code",
   "execution_count": 1,
   "metadata": {},
   "outputs": [],
   "source": [
    "from pathlib import Path\n",
    "from yaml import safe_load"
   ]
  },
  {
   "cell_type": "code",
   "execution_count": 30,
   "metadata": {},
   "outputs": [],
   "source": [
    "for path in Path('posts').glob('*.md'):\n",
    "    # Get the year from the frontmatter\n",
    "    raw = path.read_text()\n",
    "    metadata = safe_load(raw.split('---')[1])\n",
    "    date = metadata['date']\n",
    "    year = date[:4]\n",
    "\n",
    "    # Make the year directory in the posts directory \n",
    "    # If it exists already, then don't throw an error\n",
    "    Path(f'posts/{year}').mkdir(exist_ok=True)\n",
    "    \n",
    "    # Now move the file over\n",
    "    path.rename(f'posts/{year}/{path.name}')"
   ]
  }
 ],
 "metadata": {
  "kernelspec": {
   "display_name": ".venv",
   "language": "python",
   "name": "python3"
  },
  "language_info": {
   "codemirror_mode": {
    "name": "ipython",
    "version": 3
   },
   "file_extension": ".py",
   "mimetype": "text/x-python",
   "name": "python",
   "nbconvert_exporter": "python",
   "pygments_lexer": "ipython3",
   "version": "3.10.15"
  }
 },
 "nbformat": 4,
 "nbformat_minor": 2
}

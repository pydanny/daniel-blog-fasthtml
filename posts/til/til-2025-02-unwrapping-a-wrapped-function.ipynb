{
 "cells": [
  {
   "cell_type": "markdown",
   "metadata": {},
   "source": [
    "---\n",
    "date: '2025-02-21T18:00:00.000000'\n",
    "description: Another reason to use functools.wraps!\n",
    "image: /public/logos/til-1.png\n",
    "published: true\n",
    "tags:\n",
    "- TIL\n",
    "- python\n",
    "title: 'TIL: Undecorating a functools.wraps decorated function'\n",
    "twitter_image: /public/logos/til-1.png\n",
    "---"
   ]
  },
  {
   "cell_type": "markdown",
   "metadata": {},
   "source": [
    "In the Python standard library there is a function in the functools library that allows decorated functions to carry forward their original docstring. Executing it is rather easy:"
   ]
  },
  {
   "cell_type": "code",
   "execution_count": 10,
   "metadata": {},
   "outputs": [],
   "source": [
    "from functools import wraps\n",
    "def kerpow(f):\n",
    "    \"\"\"Prints the string KERPOW!\"\"\"\n",
    "    @wraps(f)\n",
    "    def wrapper(*args, **kwds):\n",
    "        print(f'KERPOW {f.__name__}!')\n",
    "        return f(*args, **kwds)\n",
    "    return wrapper"
   ]
  },
  {
   "cell_type": "markdown",
   "metadata": {},
   "source": [
    "Let's try it out."
   ]
  },
  {
   "cell_type": "code",
   "execution_count": 11,
   "metadata": {},
   "outputs": [],
   "source": [
    "@kerpow\n",
    "def adder(a,b):\n",
    "    \"\"\"Adds the arguments together\"\"\"\n",
    "    return a+b"
   ]
  },
  {
   "cell_type": "markdown",
   "metadata": {},
   "source": [
    "Let's call the function. What we should get in addition to the sum of the values passed is the printed value of \"KERPOW\" plus the name of the function."
   ]
  },
  {
   "cell_type": "code",
   "execution_count": 12,
   "metadata": {},
   "outputs": [
    {
     "name": "stdout",
     "output_type": "stream",
     "text": [
      "KERPOW adder!\n"
     ]
    },
    {
     "data": {
      "text/plain": [
       "3"
      ]
     },
     "execution_count": 12,
     "metadata": {},
     "output_type": "execute_result"
    }
   ],
   "source": [
    "adder(1,2)"
   ]
  },
  {
   "cell_type": "markdown",
   "metadata": {},
   "source": [
    "As mentioned, the `functools.wraps` decorator preserves the docstring:"
   ]
  },
  {
   "cell_type": "code",
   "execution_count": 13,
   "metadata": {},
   "outputs": [
    {
     "data": {
      "text/plain": [
       "'Adds the arguments together'"
      ]
     },
     "execution_count": 13,
     "metadata": {},
     "output_type": "execute_result"
    }
   ],
   "source": [
    "adder.__doc__"
   ]
  },
  {
   "cell_type": "markdown",
   "metadata": {},
   "source": [
    "As you can see, `functools.wraps` is an easy addition to any decorator that makes keeping documentation valid trivial to do."
   ]
  },
  {
   "cell_type": "markdown",
   "metadata": {},
   "source": [
    "However, what if we want to use the `adder` function without printing \"KERPOW adder!\" to the terminal? In other words, can we remove the decorator?\n",
    "\n",
    "Fortunately, because we used `functools.wraps` we can do just that. You see, what `functools.wraps` does is add a `__wrapped__` attribute to the wrapped function. If we want to restore the function to the original we do this:"
   ]
  },
  {
   "cell_type": "code",
   "execution_count": 14,
   "metadata": {},
   "outputs": [],
   "source": [
    "adder = adder.__wrapped__"
   ]
  },
  {
   "cell_type": "markdown",
   "metadata": {},
   "source": [
    "Now if we call `adder`, we won't see \"KERPOW adder!\" any longer going to the terminal."
   ]
  },
  {
   "cell_type": "code",
   "execution_count": 15,
   "metadata": {},
   "outputs": [
    {
     "data": {
      "text/plain": [
       "5"
      ]
     },
     "execution_count": 15,
     "metadata": {},
     "output_type": "execute_result"
    }
   ],
   "source": [
    "adder(2,3)"
   ]
  },
  {
   "cell_type": "markdown",
   "metadata": {},
   "source": [
    "## Postscript"
   ]
  },
  {
   "cell_type": "markdown",
   "metadata": {},
   "source": [
    "In a follow-up discussion about this TIL I learned that `functools.wraps` is syntactical sugar for the [functools.update_wrapper()](https://docs.python.org/3/library/functools.html#functools.update_wrapper) function. "
   ]
  },
  {
   "cell_type": "markdown",
   "metadata": {},
   "source": []
  }
 ],
 "metadata": {
  "kernelspec": {
   "display_name": ".venv",
   "language": "python",
   "name": "python3"
  },
  "language_info": {
   "codemirror_mode": {
    "name": "ipython",
    "version": 3
   },
   "file_extension": ".py",
   "mimetype": "text/x-python",
   "name": "python",
   "nbconvert_exporter": "python",
   "pygments_lexer": "ipython3",
   "version": "3.12.6"
  }
 },
 "nbformat": 4,
 "nbformat_minor": 2
}

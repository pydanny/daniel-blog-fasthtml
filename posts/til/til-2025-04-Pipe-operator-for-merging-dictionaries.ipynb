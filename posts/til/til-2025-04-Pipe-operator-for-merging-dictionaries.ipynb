{
 "cells": [
  {
   "cell_type": "markdown",
   "id": "87a50e38",
   "metadata": {},
   "source": [
    "---\n",
    "date: '2025-04-27T19:05:35.433062'\n",
    "description: In Python 3.9 and later, the pipe operator | can be used to merge dictionaries.\n",
    "image: /public/logos/til-1.png\n",
    "published: true\n",
    "tags:\n",
    "- TIL\n",
    "- python\n",
    "title: 'TIL: Pipe operator for merging dictionaries'\n",
    "twitter_image: /public/logos/til-1.png\n",
    "---"
   ]
  },
  {
   "cell_type": "markdown",
   "id": "424d8ca7",
   "metadata": {},
   "source": [
    "Pipe `|` returns a new dictionary containing the key-value pairs from both operands. "
   ]
  },
  {
   "cell_type": "code",
   "execution_count": null,
   "id": "8f8aa543",
   "metadata": {},
   "outputs": [
    {
     "data": {
      "text/html": [
       "<pre style=\"white-space:pre;overflow-x:auto;line-height:normal;font-family:Menlo,'DejaVu Sans Mono',consolas,'Courier New',monospace\"><span style=\"font-weight: bold\">{</span><span style=\"color: #008000; text-decoration-color: #008000\">'a'</span>: <span style=\"color: #008080; text-decoration-color: #008080; font-weight: bold\">1</span>, <span style=\"color: #008000; text-decoration-color: #008000\">'b'</span>: <span style=\"color: #008080; text-decoration-color: #008080; font-weight: bold\">2</span><span style=\"font-weight: bold\">}</span>\n",
       "</pre>\n"
      ],
      "text/plain": [
       "\u001b[1m{\u001b[0m\u001b[32m'a'\u001b[0m: \u001b[1;36m1\u001b[0m, \u001b[32m'b'\u001b[0m: \u001b[1;36m2\u001b[0m\u001b[1m}\u001b[0m\n"
      ]
     },
     "metadata": {},
     "output_type": "display_data"
    }
   ],
   "source": [
    "a = {'a': 1, 'b': 2}\n",
    "b = {'c': 3, 'd': 4}\n",
    "# Similar to a.update(b), but returns a new dictionary instead of making a change in-place\n",
    "merged = a | b \n",
    "print(a)"
   ]
  },
  {
   "cell_type": "markdown",
   "id": "b7e6a9dd",
   "metadata": {},
   "source": [
    "If there are duplicate keys, the value from the right-hand operand will overwrite  the value from the left-hand operand."
   ]
  },
  {
   "cell_type": "code",
   "execution_count": 13,
   "id": "72c6fb52",
   "metadata": {},
   "outputs": [
    {
     "data": {
      "text/html": [
       "<pre style=\"white-space:pre;overflow-x:auto;line-height:normal;font-family:Menlo,'DejaVu Sans Mono',consolas,'Courier New',monospace\"><span style=\"font-weight: bold\">{</span><span style=\"color: #008000; text-decoration-color: #008000\">'a'</span>: <span style=\"color: #008080; text-decoration-color: #008080; font-weight: bold\">3</span>, <span style=\"color: #008000; text-decoration-color: #008000\">'b'</span>: <span style=\"color: #008080; text-decoration-color: #008080; font-weight: bold\">4</span><span style=\"font-weight: bold\">}</span>\n",
       "</pre>\n"
      ],
      "text/plain": [
       "\u001b[1m{\u001b[0m\u001b[32m'a'\u001b[0m: \u001b[1;36m3\u001b[0m, \u001b[32m'b'\u001b[0m: \u001b[1;36m4\u001b[0m\u001b[1m}\u001b[0m\n"
      ]
     },
     "metadata": {},
     "output_type": "display_data"
    }
   ],
   "source": [
    "left = {'a': 1, 'b': 2}\n",
    "right = {'a': 3, 'b': 4}\n",
    "merged = left | right\n",
    "print(merged)"
   ]
  },
  {
   "cell_type": "markdown",
   "id": "a0f513a2",
   "metadata": {},
   "source": [
    "The `|=` is related, updating the left-hand operand in place much like the `+=` operator."
   ]
  },
  {
   "cell_type": "code",
   "execution_count": 15,
   "id": "d0d4f679",
   "metadata": {},
   "outputs": [
    {
     "data": {
      "text/html": [
       "<pre style=\"white-space:pre;overflow-x:auto;line-height:normal;font-family:Menlo,'DejaVu Sans Mono',consolas,'Courier New',monospace\"><span style=\"font-weight: bold\">{</span><span style=\"color: #008000; text-decoration-color: #008000\">'a'</span>: <span style=\"color: #008080; text-decoration-color: #008080; font-weight: bold\">1</span>, <span style=\"color: #008000; text-decoration-color: #008000\">'b'</span>: <span style=\"color: #008080; text-decoration-color: #008080; font-weight: bold\">3</span>, <span style=\"color: #008000; text-decoration-color: #008000\">'c'</span>: <span style=\"color: #008080; text-decoration-color: #008080; font-weight: bold\">4</span><span style=\"font-weight: bold\">}</span>\n",
       "</pre>\n"
      ],
      "text/plain": [
       "\u001b[1m{\u001b[0m\u001b[32m'a'\u001b[0m: \u001b[1;36m1\u001b[0m, \u001b[32m'b'\u001b[0m: \u001b[1;36m3\u001b[0m, \u001b[32m'c'\u001b[0m: \u001b[1;36m4\u001b[0m\u001b[1m}\u001b[0m\n"
      ]
     },
     "metadata": {},
     "output_type": "display_data"
    }
   ],
   "source": [
    "original = {'a': 1, 'b': 2}\n",
    "new = {'b': 3, 'c': 4}\n",
    "original |= new # Analogous to original.update(new)\n",
    "print(original)"
   ]
  }
 ],
 "metadata": {
  "kernelspec": {
   "display_name": ".venv",
   "language": "python",
   "name": "python3"
  },
  "language_info": {
   "codemirror_mode": {
    "name": "ipython",
    "version": 3
   },
   "file_extension": ".py",
   "mimetype": "text/x-python",
   "name": "python",
   "nbconvert_exporter": "python",
   "pygments_lexer": "ipython3",
   "version": "3.12.6"
  }
 },
 "nbformat": 4,
 "nbformat_minor": 5
}

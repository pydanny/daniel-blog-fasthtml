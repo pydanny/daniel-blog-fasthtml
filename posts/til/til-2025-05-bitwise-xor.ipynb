{
 "cells": [
  {
   "cell_type": "markdown",
   "id": "5edf940a",
   "metadata": {},
   "source": [
    "---\n",
    "date: '2025-05-07T03:30:43.170061'\n",
    "description: How to mark a comparison of booleans as True or False using bitwise XOR.\n",
    "image: /public/logos/til-1.png\n",
    "published: true\n",
    "tags:\n",
    "- TIL\n",
    "- python\n",
    "title: 'TIL: ^ bitwise XOR'\n",
    "twitter_image: /public/logos/til-1.png\n",
    "---"
   ]
  },
  {
   "cell_type": "markdown",
   "id": "b5e441b6",
   "metadata": {},
   "source": [
    "The bitwise XOR operator `^`, also known as `exclusive or`, can be used to compare boolean objects to see if one and only one is `True`. \n",
    "\n",
    "Let's see it in action, first comparing three `False` booleans, which will return `False`."
   ]
  },
  {
   "cell_type": "code",
   "execution_count": 18,
   "id": "425b6bd0",
   "metadata": {},
   "outputs": [
    {
     "data": {
      "text/plain": [
       "False"
      ]
     },
     "execution_count": 18,
     "metadata": {},
     "output_type": "execute_result"
    }
   ],
   "source": [
    "False ^ False ^ False"
   ]
  },
  {
   "cell_type": "markdown",
   "id": "c21d27df",
   "metadata": {},
   "source": [
    "Now let's demonstrate three different combinations of a single `True` and any number of `False` booleans, which will return `True` in each case."
   ]
  },
  {
   "cell_type": "code",
   "execution_count": 4,
   "id": "eda58c58",
   "metadata": {},
   "outputs": [
    {
     "name": "stdout",
     "output_type": "stream",
     "text": [
      "True\n",
      "True\n",
      "True\n"
     ]
    }
   ],
   "source": [
    "print(True ^ False ^ False)\n",
    "print(False ^ True ^ False)\n",
    "print(False ^ False ^ True)"
   ]
  },
  {
   "cell_type": "markdown",
   "id": "2530f895",
   "metadata": {},
   "source": [
    "However, if we have two or more values that are `True`, the result will be `False` because more than one value are `True`. "
   ]
  },
  {
   "cell_type": "code",
   "execution_count": 3,
   "id": "4105bd52",
   "metadata": {},
   "outputs": [
    {
     "name": "stdout",
     "output_type": "stream",
     "text": [
      "False\n",
      "False\n",
      "False\n"
     ]
    }
   ],
   "source": [
    "print(True ^ True ^ False)\n",
    "print(True ^ False ^ True)\n",
    "print(False ^ True ^ True)"
   ]
  },
  {
   "cell_type": "markdown",
   "id": "2d641207",
   "metadata": {},
   "source": [
    "## What about non-boolean types?\n"
   ]
  },
  {
   "cell_type": "markdown",
   "id": "258b288f",
   "metadata": {},
   "source": [
    "The `^` operator only works with boolean types. If you try to use it on non-boolean types, you'll get a `TypeError`. For example, if you try to use it on integers or strings to check for truthiness, you'll get an error."
   ]
  },
  {
   "cell_type": "code",
   "execution_count": 20,
   "id": "9107cf37",
   "metadata": {},
   "outputs": [
    {
     "ename": "TypeError",
     "evalue": "unsupported operand type(s) for ^: 'str' and 'str'",
     "output_type": "error",
     "traceback": [
      "\u001b[31m---------------------------------------------------------------------------\u001b[39m",
      "\u001b[31mTypeError\u001b[39m                                 Traceback (most recent call last)",
      "\u001b[36mCell\u001b[39m\u001b[36m \u001b[39m\u001b[32mIn[20]\u001b[39m\u001b[32m, line 1\u001b[39m\n\u001b[32m----> \u001b[39m\u001b[32m1\u001b[39m \u001b[33;43m'\u001b[39;49m\u001b[33;43m'\u001b[39;49m\u001b[43m \u001b[49m\u001b[43m^\u001b[49m\u001b[43m \u001b[49m\u001b[33;43m'\u001b[39;49m\u001b[33;43m'\u001b[39;49m ^ \u001b[33m'\u001b[39m\u001b[33mone\u001b[39m\u001b[33m'\u001b[39m\n",
      "\u001b[31mTypeError\u001b[39m: unsupported operand type(s) for ^: 'str' and 'str'"
     ]
    }
   ],
   "source": [
    "'' ^ '' ^ 'one'"
   ]
  },
  {
   "cell_type": "markdown",
   "id": "b9f0cc13",
   "metadata": {},
   "source": [
    "```python\n",
    "-------------------------------------------------------------\n",
    "TypeError                   Traceback (most recent call last)\n",
    "Cell In[20], line 1\n",
    "----> 1 '' ^ '' ^ 'one'\n",
    "\n",
    "TypeError: unsupported operand type(s) for ^: 'str' and 'str'\n",
    "```"
   ]
  },
  {
   "cell_type": "markdown",
   "id": "40f2fe8d",
   "metadata": {},
   "source": [
    "To make this comparison works, you can convert the non-boolean types to boolean first. For example, you can use the `bool()` function to convert an integer or string to a boolean before using the `^` operator."
   ]
  },
  {
   "cell_type": "code",
   "execution_count": 22,
   "id": "b4c86a0c",
   "metadata": {},
   "outputs": [
    {
     "data": {
      "text/plain": [
       "True"
      ]
     },
     "execution_count": 22,
     "metadata": {},
     "output_type": "execute_result"
    }
   ],
   "source": [
    "bool('') ^ bool('') ^ bool('one')"
   ]
  },
  {
   "cell_type": "markdown",
   "id": "62abbdb5",
   "metadata": {},
   "source": [
    "## Updates\n",
    "\n",
    "- 2025-05-07: Updated the post to describe XOR only returns `True` if one (and only one) of the values is `True`. Removed the segment on `any()` as it is too far away in design from `XOR`.  Credit for this fix goes to [Curt Merrill](https://bsky.app/profile/cmerrill.com) and [Rens Dimmendaal](https://rensdimmendaal.com/)."
   ]
  },
  {
   "cell_type": "markdown",
   "id": "fbd16c8d",
   "metadata": {},
   "source": []
  }
 ],
 "metadata": {
  "kernelspec": {
   "display_name": ".venv",
   "language": "python",
   "name": "python3"
  },
  "language_info": {
   "codemirror_mode": {
    "name": "ipython",
    "version": 3
   },
   "file_extension": ".py",
   "mimetype": "text/x-python",
   "name": "python",
   "nbconvert_exporter": "python",
   "pygments_lexer": "ipython3",
   "version": "3.12.6"
  }
 },
 "nbformat": 4,
 "nbformat_minor": 5
}

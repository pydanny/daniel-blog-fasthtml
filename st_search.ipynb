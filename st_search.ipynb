{
 "cells": [
  {
   "cell_type": "code",
   "execution_count": null,
   "id": "0c824054",
   "metadata": {},
   "outputs": [],
   "source": []
  },
  {
   "cell_type": "code",
   "execution_count": 29,
   "id": "9bd7e661",
   "metadata": {},
   "outputs": [],
   "source": [
    "from fastcore.utils import *\n",
    "from main import list_posts\n",
    "import functools\n",
    "from sentence_transformers import CrossEncoder, SentenceTransformer, util\n"
   ]
  },
  {
   "cell_type": "code",
   "execution_count": 2,
   "id": "783f65b1",
   "metadata": {},
   "outputs": [
    {
     "name": "stderr",
     "output_type": "stream",
     "text": [
      "You are trying to use a model that was created with Sentence Transformers version 4.1.0.dev0, but you're currently using version 4.0.2. This might cause unexpected behavior or errors. In that case, try to update to the latest version.\n"
     ]
    }
   ],
   "source": [
    "search_model = CrossEncoder(\"cross-encoder/ms-marco-MiniLM-L6-v2\")\n",
    "bienc_model = SentenceTransformer('all-MiniLM-L6-v2')\n"
   ]
  },
  {
   "cell_type": "code",
   "execution_count": 18,
   "id": "9367da60",
   "metadata": {},
   "outputs": [],
   "source": [
    "@functools.cache\n",
    "def _embed_content(posts):\n",
    "    return bienc_model.encode(posts)"
   ]
  },
  {
   "cell_type": "code",
   "execution_count": 43,
   "id": "cf96a549",
   "metadata": {},
   "outputs": [],
   "source": [
    "content_embeds = bienc_model.encode(list_posts())"
   ]
  },
  {
   "cell_type": "code",
   "execution_count": 77,
   "id": "37b45ccd",
   "metadata": {},
   "outputs": [],
   "source": [
    "q = 'Uma'\n",
    "q_emb = bienc_model.encode(q)"
   ]
  },
  {
   "cell_type": "code",
   "execution_count": 78,
   "id": "78105ec4",
   "metadata": {},
   "outputs": [],
   "source": [
    "hits = util.semantic_search(q_emb, content_embeds, top_k=20)"
   ]
  },
  {
   "cell_type": "code",
   "execution_count": 79,
   "id": "ffec6956",
   "metadata": {},
   "outputs": [],
   "source": [
    "def print_hit(hit):\n",
    "    print(f'{hit[\"score\"]} {posts[hit[\"corpus_id\"]]}')\n"
   ]
  },
  {
   "cell_type": "code",
   "execution_count": 80,
   "id": "0e7398f6",
   "metadata": {},
   "outputs": [
    {
     "name": "stdout",
     "output_type": "stream",
     "text": [
      "0.34572145342826843 {'date': '2018-08-03', 'description': 'Fighting the local_settings.py antipattern', 'published': True, 'slug': 'using-executable-code-outside-version-control', 'tags': ['python', 'django', 'twoscoops'], 'time_to_read': 4, 'title': 'Stop Using Executable Code Outside of Version Control', 'cls': 'marked'}\n"
     ]
    }
   ],
   "source": [
    "print_hit(hits[0][0])"
   ]
  },
  {
   "cell_type": "code",
   "execution_count": 62,
   "id": "13b5c140",
   "metadata": {},
   "outputs": [
    {
     "name": "stdout",
     "output_type": "stream",
     "text": [
      "0.13087302446365356 {'date': '2019-05-05', 'description': 'Musings ten years after I decided to take my life in a new direction.', 'published': True, 'slug': 'ten-years-ago-today', 'tags': ['pycon', 'family', 'friends'], 'time_to_read': 3, 'title': 'Ten Years Ago Today', 'cls': 'marked'}\n",
      "0.11928507685661316 {'date': '2014-04-05', 'published': True, 'slug': 'beginners-guide-pycon-2014', 'tags': ['python', 'django', 'pycon'], 'time_to_read': 6, 'title': \"Beginner's Guide to PyCon 2015\", 'cls': 'marked'}\n",
      "0.11630214750766754 {'date': '2014-04-24', 'published': True, 'slug': 'python-partials-are-fun', 'tags': ['python'], 'time_to_read': 4, 'title': 'Python Partials are Fun!', 'cls': 'marked'}\n",
      "0.11596772074699402 {'date': '2015-03-28T13:15:00.000-07:00', 'description': 'Wherin I discuss my first fiction book.', 'published': True, 'slug': '2015-03-into-brambles-is-published', 'tags': ['The Brambles', 'writings', 'legacy-danielroygreenfeld'], 'time_to_read': 5, 'title': 'Into the Brambles is Published!', 'cls': 'marked'}\n",
      "0.11435189843177795 {'date': '2013-09-09', 'published': True, 'slug': 'dynow-2013-part-i', 'tags': ['europe', 'travel', 'travel tips for geeks', 'family', 'friends', 'audrey'], 'time_to_read': 2, 'title': 'Dynov 2013 Part I', 'cls': 'marked'}\n",
      "0.11305730044841766 {'date': '2015-07-22T06:44:00.000-07:00', 'description': 'When I gave out my first fiction book for free.', 'published': True, 'slug': '2015-07-my-birthday-gift-to-you', 'tags': ['The Brambles', 'Kindle', 'legacy-danielroygreenfeld'], 'time_to_read': 5, 'title': 'My Birthday Gift to You', 'cls': 'marked'}\n",
      "0.11256995797157288 {'date': '2014-02-24', 'published': True, 'slug': 'fiction-vs-non-fiction', 'tags': ['book', 'twoscoops'], 'time_to_read': 3, 'title': 'Fiction vs Non-Fiction', 'cls': 'marked'}\n",
      "0.11244495958089828 {'date': '2014-04-01T17:17:00.000-07:00', 'description': '', 'published': True, 'slug': '2014-04-first-post', 'tags': ['legacy-danielroygreenfeld'], 'time_to_read': 5, 'title': 'First Post', 'cls': 'marked'}\n",
      "0.1101558580994606 {'date': '2014-01-15', 'published': True, 'slug': 'pytest-no-boilerplate-testing', 'tags': ['python', 'django', 'testing'], 'time_to_read': 3, 'title': 'pytest: no-boilerplate testing', 'cls': 'marked'}\n",
      "0.1097736656665802 {'date': '2020-01-09', 'description': 'This is my recap of 2019, plus my resolutions for 2020.', 'published': True, 'slug': 'recap-2019-resolutions-2020', 'tags': ['family', 'uma', 'audrey', 'travel', 'kotlin', 'hackathon', 'pycon', 'resolutions'], 'time_to_read': 15, 'title': 'Recap of 2019 and Resolutions for 2020', 'type': 'post', 'cls': 'marked'}\n",
      "0.1070767417550087 {'date': '2012-08-02', 'published': True, 'slug': 'deadline-for-djangocon-financial-aid-request', 'tags': ['django', 'djangocon', 'pyladies'], 'time_to_read': 0, 'title': 'Deadline for DjangoCon Financial Aid requests is tomorrow!', 'cls': 'marked'}\n",
      "0.1070767417550087 {'date': '2012-08-06', 'published': True, 'slug': 'curiosity-has-landed', 'tags': ['NASA', 'python', 'django'], 'time_to_read': 1, 'title': 'Curiosity has landed!', 'cls': 'marked'}\n",
      "0.10650429874658585 {'date': '2018-01-19', 'description': \"We're going to PyCon Colombia!\", 'published': True, 'slug': 'hola-pycon-colombia', 'tags': ['python', 'django', 'pycon'], 'time_to_read': 1, 'title': 'Hola, PyCon Colombia!', 'cls': 'marked'}\n",
      "0.10596734285354614 {'date': '2013-03-10', 'published': True, 'slug': 'beginners-guide-pycon-2013-part-3', 'tags': ['python', 'django', 'pycon', 'pycon-2013-guide'], 'time_to_read': 8, 'title': \"Beginner's Guide to PyCon 2013 Part III\", 'cls': 'marked'}\n",
      "0.10410716384649277 {'blogbook': 'True', 'date': '2013-05-10', 'published': True, 'slug': 'easy-form-views-controversy', 'tags': ['python', 'django', 'forms', 'howto'], 'time_to_read': 3, 'title': 'The Easy Form Views Pattern Controversy', 'cls': 'marked'}\n",
      "0.10380735993385315 {'date': '2011-03-24T11:18:00.000-07:00', 'description': '', 'published': True, 'slug': '2011-03-ill-get-you-next-time-wesley-chun', 'tags': ['pycon', 'geek celebrities', 'python', 'GAPE', 'legacy-blogger'], 'time_to_read': 5, 'title': \"I'll get you next time, Wesley Chun!\", 'cls': 'marked'}\n",
      "0.10268844664096832 {'date': '2014-03-17', 'published': True, 'slug': 'memories-of-malcolm', 'tags': ['python', 'django', 'djangocon', 'pycon', 'book', 'australia', 'twoscoops'], 'time_to_read': 3, 'title': 'Memories of Malcolm', 'cls': 'marked'}\n",
      "0.10235460102558136 {'date': '2015-02-22', 'published': True, 'slug': 'setting-up-latex-on-mac-os-x', 'tags': ['book', 'LaTeX', 'howto', 'python'], 'time_to_read': 1, 'title': 'Setting up LaTeX on Mac OS X', 'cls': 'marked'}\n",
      "0.1019546389579773 {'date': '2018-03-29', 'description': 'Where I describe why and how I wrote a new blog engine', 'slug': 'writing-new-blog-engine', 'tags': ['python', 'django', 'flask', 'blog'], 'time_to_read': 4, 'published': True, 'title': 'Writing A New Blog Engine', 'cls': 'marked'}\n",
      "0.09929515421390533 {'date': '2021-08-18', 'description': 'What to do when you get stuck on a coding issue for more than 30 minutes.', 'published': True, 'popular': True, 'slug': 'thirty-minute-rule', 'tags': ['rant', 'tools', 'advice'], 'time_to_read': 3, 'title': 'The Thirty Minute Rule', 'image': '/public/images/6933443849_51316a7cb7.jpg', 'twitter_image': '/public/images/6933443849_51316a7cb7.jpg', 'cls': 'marked'}\n"
     ]
    }
   ],
   "source": [
    "for hit in hits[0]:\n",
    "    print_hit(hit)"
   ]
  },
  {
   "cell_type": "code",
   "execution_count": null,
   "id": "719d6745",
   "metadata": {},
   "outputs": [],
   "source": []
  }
 ],
 "metadata": {
  "kernelspec": {
   "display_name": ".venv",
   "language": "python",
   "name": "python3"
  },
  "language_info": {
   "codemirror_mode": {
    "name": "ipython",
    "version": 3
   },
   "file_extension": ".py",
   "mimetype": "text/x-python",
   "name": "python",
   "nbconvert_exporter": "python",
   "pygments_lexer": "ipython3",
   "version": "3.12.6"
  }
 },
 "nbformat": 4,
 "nbformat_minor": 5
}
